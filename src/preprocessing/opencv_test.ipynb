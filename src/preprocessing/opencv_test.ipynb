{
 "cells": [
  {
   "cell_type": "code",
   "execution_count": 9,
   "metadata": {
    "collapsed": true
   },
   "outputs": [],
   "source": [
    "import cv2\n",
    "import numpy as np\n",
    "import matplotlib.pyplot as plt\n",
    "import time"
   ]
  },
  {
   "cell_type": "code",
   "execution_count": 2,
   "metadata": {
    "collapsed": true
   },
   "outputs": [],
   "source": [
    "#%matplotlib inline"
   ]
  },
  {
   "cell_type": "code",
   "execution_count": 5,
   "metadata": {
    "collapsed": true
   },
   "outputs": [],
   "source": [
    "import cv2\n",
    "import numpy as np\n",
    "\n",
    "cap = cv2.VideoCapture(0)\n",
    "\n",
    "while(1):\n",
    "\n",
    "    # Take each frame\n",
    "    _, frame = cap.read()\n",
    "\n",
    "    # Convert BGR to HSV\n",
    "    #hsv = cv2.cvtColor(frame, cv2.COLOR_BGR2HSV)\n",
    "    hsv = cv2.cvtColor(frame, cv2.COLOR_RGB2HSV)\n",
    "\n",
    "    # define range of blue color in HSV\n",
    "    lower_blue = np.array([110,50,50])\n",
    "    upper_blue = np.array([130,255,255])\n",
    "\n",
    "    # Threshold the HSV image to get only blue colors\n",
    "    mask = cv2.inRange(hsv, lower_blue, upper_blue)\n",
    "\n",
    "    # Bitwise-AND mask and original image\n",
    "    res = cv2.bitwise_and(frame,frame, mask= mask)\n",
    "\n",
    "    cv2.imshow('frame',frame)\n",
    "    cv2.imshow('hsv', hsv)\n",
    "    cv2.imshow('mask',mask)\n",
    "    cv2.imshow('res',res)\n",
    "    k = cv2.waitKey(5) & 0xFF\n",
    "    if k == 27:\n",
    "        break\n",
    "\n",
    "cv2.destroyAllWindows()"
   ]
  },
  {
   "cell_type": "code",
   "execution_count": 3,
   "metadata": {
    "collapsed": false
   },
   "outputs": [
    {
     "name": "stdout",
     "output_type": "stream",
     "text": [
      "[[[ 60 255 255]]]\n"
     ]
    }
   ],
   "source": [
    "green = np.uint8([[[0,255,0 ]]])\n",
    "hsv_green = cv2.cvtColor(green,cv2.COLOR_BGR2HSV)\n",
    "print hsv_green"
   ]
  },
  {
   "cell_type": "code",
   "execution_count": 3,
   "metadata": {
    "collapsed": false
   },
   "outputs": [],
   "source": [
    "input_image_cv = cv2.imread('train256/16_right.jpeg', 1)\n",
    "#plt.imshow(input_image_cv)\n",
    "#plt.show()\n",
    "cv2.imshow('image',input_image_cv)\n",
    "cv2.waitKey(0)\n",
    "cv2.destroyAllWindows()\n",
    "hls_input_image_cv = cv2.cvtColor(input_image_cv, cv2.COLOR_BGR2HLS)\n"
   ]
  },
  {
   "cell_type": "code",
   "execution_count": 4,
   "metadata": {
    "collapsed": false
   },
   "outputs": [
    {
     "data": {
      "text/plain": [
       "array([0, 0, 0], dtype=uint8)"
      ]
     },
     "execution_count": 4,
     "metadata": {},
     "output_type": "execute_result"
    }
   ],
   "source": [
    "hls_input_image_cv[10][10]"
   ]
  },
  {
   "cell_type": "code",
   "execution_count": 5,
   "metadata": {
    "collapsed": false
   },
   "outputs": [],
   "source": [
    "def local_contrast_enhancement(input_image, patch_size, color_scale, var_threshold):\n",
    "    \"\"\" local contrast enhancement \"\"\"\n",
    "    \"\"\" color_scale is the scale of value in each dimension, if [0, 1], input 1; if [0, 255]. input 255 \"\"\"\n",
    "    f_min = np.amin(input_image[:, :, 1])\n",
    "    f_max = np.amax(input_image[:, :, 1])\n",
    "    res_pic = np.copy(input_image)\n",
    "    for i in range(input_image.shape[0]):\n",
    "        for j in range(input_image.shape[1]):\n",
    "            if (res_pic[i][j][1] == 0):\n",
    "                continue\n",
    "            start_pos_i = i - int(patch_size / 2)\n",
    "            start_pos_j = j - int(patch_size / 2)\n",
    "            end_pos_i = start_pos_i + patch_size\n",
    "            end_pos_j = start_pos_j + patch_size\n",
    "            start_pos_i = max(0, start_pos_i)\n",
    "            start_pos_j = max(0, start_pos_j)\n",
    "            end_pos_i = min(input_image.shape[0], end_pos_i)\n",
    "            end_pos_j = min(input_image.shape[1], end_pos_j)\n",
    "            patch_mean = input_image[start_pos_i: end_pos_i, start_pos_j : end_pos_j, 1].mean()\n",
    "            patch_var = input_image[start_pos_i: end_pos_i, start_pos_j : end_pos_j, 1].var()\n",
    "            if patch_var < var_threshold:\n",
    "                continue\n",
    "            res_pic[i][j][1] = color_scale * ((PHI_W(input_image[i][j][1], patch_mean, patch_var) - PHI_W(f_min, patch_mean, patch_var)) / (PHI_W(f_max, patch_mean, patch_var) - PHI_W(f_min, patch_mean, patch_var)))\n",
    "\n",
    "    return res_pic"
   ]
  },
  {
   "cell_type": "code",
   "execution_count": 6,
   "metadata": {
    "collapsed": true
   },
   "outputs": [],
   "source": [
    "def PHI_W(f, patch_mean, patch_var):\n",
    "    return 1 / (1 + np.exp((patch_mean - f) / (patch_var ** 0.5)))"
   ]
  },
  {
   "cell_type": "code",
   "execution_count": 10,
   "metadata": {
    "collapsed": false
   },
   "outputs": [
    {
     "name": "stdout",
     "output_type": "stream",
     "text": [
      "1.76140785217\n"
     ]
    }
   ],
   "source": [
    "start = time.time()\n",
    "output_pic = local_contrast_enhancement(hls_input_image_cv, 25, 255, 30)\n",
    "print time.time()-start"
   ]
  },
  {
   "cell_type": "code",
   "execution_count": 8,
   "metadata": {
    "collapsed": false
   },
   "outputs": [],
   "source": [
    "res_pic_rbg = cv2.cvtColor(output_pic, cv2.COLOR_HLS2RGB)\n",
    "plt.imshow(res_pic_rbg)\n",
    "plt.show()"
   ]
  },
  {
   "cell_type": "code",
   "execution_count": 17,
   "metadata": {
    "collapsed": false
   },
   "outputs": [],
   "source": [
    "thresholds = [10, 20, 30, 40, 50, 60]\n",
    "_, sub_fig = plt.subplots(nrows = 2, ncols = 3)\n",
    "for i in range(len(thresholds)):\n",
    "    output_pic = local_contrast_enhancement(hls_input_image_cv, 32, 255, i)\n",
    "    res_pic_rbg = cv2.cvtColor(output_pic, cv2.COLOR_HLS2RGB)\n",
    "    sub_fig[i/3][i%3].imshow(res_pic_rbg)\n",
    "plt.show()\n",
    "\n",
    "#sub_fig[0].imshow(input_image)\n",
    "#sub_fig[1].imshow(output_pic)\n",
    "#plt.show()"
   ]
  },
  {
   "cell_type": "code",
   "execution_count": null,
   "metadata": {
    "collapsed": true
   },
   "outputs": [],
   "source": []
  }
 ],
 "metadata": {
  "kernelspec": {
   "display_name": "Python 2",
   "language": "python",
   "name": "python2"
  },
  "language_info": {
   "codemirror_mode": {
    "name": "ipython",
    "version": 2
   },
   "file_extension": ".py",
   "mimetype": "text/x-python",
   "name": "python",
   "nbconvert_exporter": "python",
   "pygments_lexer": "ipython2",
   "version": "2.7.9"
  }
 },
 "nbformat": 4,
 "nbformat_minor": 0
}
