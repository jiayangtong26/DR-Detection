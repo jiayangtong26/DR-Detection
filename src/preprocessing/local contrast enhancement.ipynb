{
 "cells": [
  {
   "cell_type": "code",
   "execution_count": 1,
   "metadata": {
    "collapsed": true
   },
   "outputs": [],
   "source": [
    "from __future__ import division\n",
    "\n",
    "import numpy as np\n",
    "import pandas as pd\n",
    "import matplotlib.pyplot as plt\n",
    "import matplotlib.patches as mpatches\n",
    "from collections import deque\n"
   ]
  },
  {
   "cell_type": "code",
   "execution_count": 2,
   "metadata": {
    "collapsed": true
   },
   "outputs": [],
   "source": [
    "input_image = plt.imread('train256/10003_left.jpeg')\n",
    "plt.imshow(input_image)\n",
    "plt.show()"
   ]
  },
  {
   "cell_type": "code",
   "execution_count": 3,
   "metadata": {
    "collapsed": true
   },
   "outputs": [],
   "source": [
    "def PHI_W(f, patch_mean, patch_var):\n",
    "    return 1 / (1 + np.exp((patch_mean - f) / (patch_var ** 0.5)))"
   ]
  },
  {
   "cell_type": "code",
   "execution_count": 4,
   "metadata": {
    "collapsed": false
   },
   "outputs": [],
   "source": [
    "def local_contrast_enhancement(input_image, patch_size, color_scale):\n",
    "    \"\"\" local contrast enhancement \"\"\"\n",
    "    \"\"\" color_scale is the scale of value in each dimension, if [0, 1], input 1; if [0, 255]. input 255 \"\"\"\n",
    "    f_min = [np.amin(input_image[:, :, i]) for i in range(3)]\n",
    "    f_max = [np.amax(input_image[:, :, i]) for i in range(3)]\n",
    "    res_pic = np.copy(input_image)\n",
    "    for i in range(input_image.shape[0]):\n",
    "        for j in range(input_image.shape[1]):\n",
    "            if (res_pic[i][j][0] == 0 and res_pic[i][j][1] == 0 and res_pic[i][j][2] == 0):\n",
    "                continue\n",
    "            start_pos_i = i - int(patch_size / 2)\n",
    "            start_pos_j = j - int(patch_size / 2)\n",
    "            end_pos_i = start_pos_i + patch_size\n",
    "            end_pos_j = start_pos_j + patch_size\n",
    "            start_pos_i = max(0, start_pos_i)\n",
    "            start_pos_j = max(0, start_pos_j)\n",
    "            end_pos_i = min(input_image.shape[0], end_pos_i)\n",
    "            end_pos_j = min(input_image.shape[1], end_pos_j)\n",
    "            patch_mean = [input_image[start_pos_i: end_pos_i, start_pos_j : end_pos_j, color_d].mean() for color_d in range(3)]\n",
    "            patch_var = [input_image[start_pos_i: end_pos_i, start_pos_j : end_pos_j, color_d].var() for color_d in range(3)]\n",
    "            res_pic[i][j][0] = color_scale *  ((PHI_W(input_image[i][j][0], patch_mean[0], patch_var[0]) - PHI_W(f_min[0], patch_mean[0], patch_var[0])) / (PHI_W(f_max[0], patch_mean[0], patch_var[0]) - PHI_W(f_min[0], patch_mean[0], patch_var[0])))\n",
    "            res_pic[i][j][1] = color_scale * ((PHI_W(input_image[i][j][1], patch_mean[1], patch_var[1]) - PHI_W(f_min[1], patch_mean[1], patch_var[1])) / (PHI_W(f_max[1], patch_mean[1], patch_var[1]) - PHI_W(f_min[1], patch_mean[1], patch_var[1])))\n",
    "            res_pic[i][j][2] = color_scale * ((PHI_W(input_image[i][j][2], patch_mean[2], patch_var[2]) - PHI_W(f_min[2], patch_mean[2], patch_var[2])) / (PHI_W(f_max[2], patch_mean[2], patch_var[2]) - PHI_W(f_min[2], patch_mean[2], patch_var[2])))\n",
    "        \n",
    "    return res_pic"
   ]
  },
  {
   "cell_type": "code",
   "execution_count": 10,
   "metadata": {
    "collapsed": false
   },
   "outputs": [
    {
     "data": {
      "text/plain": [
       "[255, 247, 203]"
      ]
     },
     "execution_count": 10,
     "metadata": {},
     "output_type": "execute_result"
    }
   ],
   "source": [
    "input_image[50, 120 : 125, 0]\n",
    "[np.amax(input_image[:, :, i]) for i in range(3)]"
   ]
  },
  {
   "cell_type": "code",
   "execution_count": 13,
   "metadata": {
    "collapsed": false
   },
   "outputs": [
    {
     "data": {
      "text/plain": [
       "171"
      ]
     },
     "execution_count": 13,
     "metadata": {},
     "output_type": "execute_result"
    }
   ],
   "source": [
    "input_image.shape"
   ]
  },
  {
   "cell_type": "code",
   "execution_count": 7,
   "metadata": {
    "collapsed": false
   },
   "outputs": [],
   "source": [
    "output_pic = local_contrast_enhancement(input_image, 32, 255)"
   ]
  },
  {
   "cell_type": "code",
   "execution_count": 14,
   "metadata": {
    "collapsed": false
   },
   "outputs": [],
   "source": [
    "_, sub_fig = plt.subplots(nrows = 1, ncols = 2)\n",
    "sub_fig[0].imshow(input_image)\n",
    "sub_fig[1].imshow(output_pic)\n",
    "plt.show()"
   ]
  },
  {
   "cell_type": "code",
   "execution_count": null,
   "metadata": {
    "collapsed": true
   },
   "outputs": [],
   "source": []
  }
 ],
 "metadata": {
  "kernelspec": {
   "display_name": "Python 2",
   "language": "python",
   "name": "python2"
  },
  "language_info": {
   "codemirror_mode": {
    "name": "ipython",
    "version": 2
   },
   "file_extension": ".py",
   "mimetype": "text/x-python",
   "name": "python",
   "nbconvert_exporter": "python",
   "pygments_lexer": "ipython2",
   "version": "2.7.9"
  }
 },
 "nbformat": 4,
 "nbformat_minor": 0
}
